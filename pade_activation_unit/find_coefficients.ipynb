{
 "cells": [
  {
   "cell_type": "code",
   "execution_count": 1,
   "metadata": {},
   "outputs": [],
   "source": [
    "%matplotlib inline"
   ]
  },
  {
   "cell_type": "code",
   "execution_count": 2,
   "metadata": {},
   "outputs": [],
   "source": [
    "import numpy as np\n",
    "import pylab \n",
    "from scipy.optimize import curve_fit\n",
    "from numba import njit\n",
    "from scipy.misc import derivative\n",
    "\n",
    "np.random.seed(17)"
   ]
  },
  {
   "cell_type": "code",
   "execution_count": 3,
   "metadata": {},
   "outputs": [],
   "source": [
    "def plot_f(x, funcs):\n",
    "    \n",
    "    if not isinstance(funcs, list):\n",
    "        funcs = [funcs]\n",
    "\n",
    "    for func in funcs:\n",
    "        pylab.plot(x, func(x), label=func.__name__)\n",
    "    pylab.legend(loc='upper left')\n",
    "    pylab.grid(True)\n",
    "    pylab.show()\n"
   ]
  },
  {
   "cell_type": "code",
   "execution_count": 4,
   "metadata": {},
   "outputs": [],
   "source": [
    "def get_act(func, popt):\n",
    "    def f(x):\n",
    "        return func(x, *popt)\n",
    "        \n",
    "    return f"
   ]
  },
  {
   "cell_type": "code",
   "execution_count": 5,
   "metadata": {},
   "outputs": [],
   "source": [
    "def softplus(x):\n",
    "    return np.log(1+np.exp(x))\n",
    "\n",
    "def relu(x):\n",
    "    return np.clip(x, a_min=0, a_max=None)\n",
    "\n",
    "def relu6(x):\n",
    "    return np.clip(x, a_min=0, a_max=6)\n",
    "\n",
    "def leakyrelu(x):\n",
    "    res = np.array(x)\n",
    "    neg_x_idx = x < 0\n",
    "    res[neg_x_idx] = 0.01*x[neg_x_idx]\n",
    "    return res\n",
    "\n",
    "def get_leaky_relu(alpha):\n",
    "    def LR(x):\n",
    "        res = np.array(x)\n",
    "        neg_x_idx = x < 0\n",
    "        res[neg_x_idx] = alpha*x[neg_x_idx]\n",
    "        return res\n",
    "    LR.alpha  = alpha\n",
    "    return LR\n",
    "\n",
    "def elu(x, alpha=1.0):\n",
    "    res = np.array(x)\n",
    "    neg_x_idx = x <= 0\n",
    "    x = x[neg_x_idx]\n",
    "    res[neg_x_idx] = alpha*(np.exp(x)-1)\n",
    "    return res\n",
    "\n",
    "def celu(x, alpha=1.0):\n",
    "    res = np.array(x)\n",
    "    neg_x_idx = x < 0\n",
    "    x = x[neg_x_idx]\n",
    "    res[neg_x_idx] = alpha*(np.exp(x/alpha)-1)\n",
    "    return res\n",
    "\n",
    "def selu(x, alpha=1.6732632423543772848170429916717, scale=1.0507009873554804934193349852946):\n",
    "    res = np.array(x)\n",
    "    neg_x_idx = x < 0\n",
    "    x = x[neg_x_idx]\n",
    "    res[neg_x_idx] = alpha*(np.exp(x)-1)\n",
    "    return scale*res\n",
    "\n",
    "def tanh(x):\n",
    "    return np.tanh(x)\n",
    "\n",
    "def sigmoid(x):\n",
    "    return 1.0 / (1.0 + np.exp(-x))\n",
    "\n",
    "def swish(x):\n",
    "    return x * (1.0 / (1.0 + np.exp(-x)))"
   ]
  },
  {
   "cell_type": "code",
   "execution_count": 6,
   "metadata": {},
   "outputs": [],
   "source": [
    "@njit\n",
    "def ratio_func54(x, w0,w1,w2,w3,w4, w5, d1, d2, d3, d4):\n",
    "    c1 = 0\n",
    "    xp = (x-c1)\n",
    "    xp1 = xp\n",
    "    xp2 = xp1*xp\n",
    "    xp3 = xp2*xp\n",
    "    xp4 = xp3*xp\n",
    "    xp5 = xp4*xp\n",
    "    \n",
    "    P = w0  + w1*xp1 + w2*xp2 + w3*xp3 + w4*xp4 + w5*xp5\n",
    "    Q = 1.0 + d1*xp1 + d2*xp2 + d3*xp3 + d4*xp4\n",
    "    return P/Q\n",
    "\n",
    "@njit\n",
    "def ratio_func_abs54(x, w0,w1,w2,w3,w4, w5, d1, d2, d3, d4):\n",
    "    c1 = 0\n",
    "    xp = (x-c1)\n",
    "    xp1 = xp\n",
    "    xp2 = xp1*xp\n",
    "    xp3 = xp2*xp\n",
    "    xp4 = xp3*xp\n",
    "    xp5 = xp4*xp\n",
    "    \n",
    "    P = w0  + w1*xp1 + w2*xp2 + w3*xp3 + w4*xp4 + w5*xp5\n",
    "    Q = 1.0 + np.abs(d1)* np.abs(xp1) +  np.abs(d2)* np.abs(xp2) +  np.abs(d3)* np.abs(xp3) +  np.abs(d4)* np.abs(xp4)\n",
    "    return P/Q"
   ]
  },
  {
   "cell_type": "code",
   "execution_count": 7,
   "metadata": {},
   "outputs": [],
   "source": [
    "def fit_func(func, ref_func, x, p0=None, maxfev=10000000, bounds=None):\n",
    "    y = ref_func(x)\n",
    "    popt, _ = curve_fit(func, x, y,  p0=p0, maxfev=maxfev,  bounds=bounds)\n",
    "    #print(popt)\n",
    "    return popt, get_act(func, popt)"
   ]
  },
  {
   "cell_type": "code",
   "execution_count": 17,
   "metadata": {},
   "outputs": [],
   "source": [
    "lr000 = get_leaky_relu(0.0)\n",
    "lr001 = get_leaky_relu(0.01)\n",
    "lr025 = get_leaky_relu(0.25)\n",
    "lr030 = get_leaky_relu(0.30)\n",
    "lr020 = get_leaky_relu(0.20)\n",
    "lrm050 = get_leaky_relu(-0.50)"
   ]
  },
  {
   "cell_type": "code",
   "execution_count": 19,
   "metadata": {},
   "outputs": [
    {
     "ename": "AttributeError",
     "evalue": "'function' object has no attribute 'alpha'",
     "output_type": "error",
     "traceback": [
      "\u001b[0;31m---------------------------------------------------------------------------\u001b[0m",
      "\u001b[0;31mAttributeError\u001b[0m                            Traceback (most recent call last)",
      "\u001b[0;32m<ipython-input-19-8aeefa7aab8a>\u001b[0m in \u001b[0;36m<module>\u001b[0;34m\u001b[0m\n\u001b[1;32m      4\u001b[0m \u001b[0;32mfor\u001b[0m \u001b[0mlrf\u001b[0m \u001b[0;32min\u001b[0m \u001b[0;34m[\u001b[0m\u001b[0mrelu6\u001b[0m\u001b[0;34m]\u001b[0m\u001b[0;34m:\u001b[0m\u001b[0;34m\u001b[0m\u001b[0m\n\u001b[1;32m      5\u001b[0m     \u001b[0mpopt\u001b[0m\u001b[0;34m,\u001b[0m \u001b[0mact_f\u001b[0m \u001b[0;34m=\u001b[0m \u001b[0mfit_func\u001b[0m\u001b[0;34m(\u001b[0m\u001b[0mratio_func_abs54\u001b[0m\u001b[0;34m,\u001b[0m \u001b[0mlrf\u001b[0m\u001b[0;34m,\u001b[0m \u001b[0mx\u001b[0m\u001b[0;34m,\u001b[0m \u001b[0mbounds\u001b[0m\u001b[0;34m=\u001b[0m\u001b[0;34m(\u001b[0m\u001b[0;34m-\u001b[0m\u001b[0mnp\u001b[0m\u001b[0;34m.\u001b[0m\u001b[0minf\u001b[0m\u001b[0;34m,\u001b[0m \u001b[0mnp\u001b[0m\u001b[0;34m.\u001b[0m\u001b[0minf\u001b[0m\u001b[0;34m)\u001b[0m\u001b[0;34m)\u001b[0m\u001b[0;34m\u001b[0m\u001b[0m\n\u001b[0;32m----> 6\u001b[0;31m     \u001b[0mprint\u001b[0m\u001b[0;34m(\u001b[0m\u001b[0mlrf\u001b[0m\u001b[0;34m.\u001b[0m\u001b[0malpha\u001b[0m\u001b[0;34m,\u001b[0m \u001b[0mpopt\u001b[0m\u001b[0;34m.\u001b[0m\u001b[0mtolist\u001b[0m\u001b[0;34m(\u001b[0m\u001b[0;34m)\u001b[0m\u001b[0;34m)\u001b[0m\u001b[0;34m\u001b[0m\u001b[0m\n\u001b[0m\u001b[1;32m      7\u001b[0m     \u001b[0mresult\u001b[0m\u001b[0;34m.\u001b[0m\u001b[0mappend\u001b[0m\u001b[0;34m(\u001b[0m\u001b[0;34m[\u001b[0m\u001b[0mpopt\u001b[0m\u001b[0;34m,\u001b[0m \u001b[0mact_f\u001b[0m\u001b[0;34m]\u001b[0m\u001b[0;34m)\u001b[0m\u001b[0;34m\u001b[0m\u001b[0m\n\u001b[1;32m      8\u001b[0m     \u001b[0mplot_f\u001b[0m\u001b[0;34m(\u001b[0m\u001b[0mnp\u001b[0m\u001b[0;34m.\u001b[0m\u001b[0marange\u001b[0m\u001b[0;34m(\u001b[0m\u001b[0;34m-\u001b[0m\u001b[0;36m5\u001b[0m\u001b[0;34m,\u001b[0m\u001b[0;36m5\u001b[0m\u001b[0;34m,\u001b[0m\u001b[0;36m0.00001\u001b[0m\u001b[0;34m)\u001b[0m\u001b[0;34m,\u001b[0m \u001b[0;34m[\u001b[0m\u001b[0mact_f\u001b[0m\u001b[0;34m,\u001b[0m \u001b[0mlrf\u001b[0m\u001b[0;34m]\u001b[0m\u001b[0;34m)\u001b[0m\u001b[0;34m\u001b[0m\u001b[0m\n",
      "\u001b[0;31mAttributeError\u001b[0m: 'function' object has no attribute 'alpha'"
     ]
    }
   ],
   "source": [
    "x = np.arange(-3,3,0.000001)\n",
    "\n",
    "result = []\n",
    "for lrf in [lr000]:\n",
    "    popt, act_f = fit_func(ratio_func_abs54, lrf, x, bounds=(-np.inf, np.inf))\n",
    "    print(lrf.alpha, popt.tolist())\n",
    "    result.append([popt, act_f])\n",
    "    plot_f(np.arange(-5,5,0.00001), [act_f, lrf])"
   ]
  },
  {
   "cell_type": "code",
   "execution_count": 22,
   "metadata": {},
   "outputs": [
    {
     "name": "stdout",
     "output_type": "stream",
     "text": [
      "relu6 [0.08470411911913851, 7.2703258907789134, 35.432966095955315, 27.292038507781328, 5.915954747353017, 0.367177096063688, -76.1487917509066, 15.092549664549832, 4.6056485484840056e-08, 1.7520767761450022]\n"
     ]
    },
    {
     "data": {
      "image/png": "[encoded data removed]",
      "text/plain": [
       "<Figure size 432x288 with 1 Axes>"
      ]
     },
     "metadata": {
      "needs_background": "light"
     },
     "output_type": "display_data"
    }
   ],
   "source": [
    "x = np.arange(-10,10,0.000001)\n",
    "\n",
    "\n",
    "popt, act_f = fit_func(ratio_func_abs54, relu6, x, bounds=(-np.inf, np.inf))\n",
    "print('relu6', popt.tolist())\n",
    "plot_f(np.arange(-7,7,0.00001), [act_f, relu6])"
   ]
  },
  {
   "cell_type": "code",
   "execution_count": 14,
   "metadata": {},
   "outputs": [],
   "source": [
    "popt_sigmoid = [1/2, 1/4, 1/18, 1/144, 1/2016, 1/60480, 0, 1/9, 0, 1/1000]\n",
    "popt_tanh = [1/2, 1/4, 1/18, 1/144, 1/2016, 1/60480, 0, 1/9, 0, 1/1000]\n",
    "popt_swish = [1/2, 1/4, 1/18, 1/144, 1/2016, 1/60480, 0, 1/9, 0, 1/1000]\n",
    "popt_lrelu0_01 = [0.02979246288832245, 0.6183773789612337, 2.3233520651936534, 3.0520265972657823, 1.4854800152744463, 0.251037168372827, -1.1420122633346115, 4.393228341365807, 0.8715444974667658, 0.34720651643419215]\n",
    "popt_lrelu0_20 = [0.025577756009581332, 0.6618281545012629, 1.5818297539580468, 2.944787587381909, 0.9528779431354413, 0.23319680694163697, -0.5096260509947604, 4.183768902183391, 0.3783209020348012, 0.3240731442906416]\n",
    "popt_lrelu0_25 = [0.02423485464722387, 0.6770971779085044, 1.4385836314706064, 2.9549799006291724, 0.8567972159918334, 0.2322961171003388, -0.41014745814143555, 4.1469196374300115, 0.3029254642283438, 0.32002849530519256]\n",
    "popt_lrelu0_30 = [0.022823661027641513, 0.6935843817924783, 1.308474321805162, 2.976815988084191, 0.7716529650279255, 0.23252265245280854, -0.3284954321510746, 4.115579017543179, 0.2415560267417864, 0.31659365394646605]\n",
    "popt_lrelu0_50_neg =[0.026504409606513814, 0.8077291240826262, 13.566116392373088, 7.002178997009714, 11.614777812309141, 0.6872037476855452, -13.706489934094302, 6.077817327962073, 12.325352286416361, -0.540068802253311]"
   ]
  },
  {
   "cell_type": "code",
   "execution_count": 15,
   "metadata": {},
   "outputs": [],
   "source": [
    "popt = [0.022823661027641513, 0.6935843817924783, 1.308474321805162, 2.976815988084191, 0.7716529650279255, 0.23252265245280854, -0.3284954321510746, 4.115579017543179, 0.2415560267417864, 0.31659365394646605]\n",
    "act_f = get_act(ratio_func_abs54, popt_sigmoid)"
   ]
  },
  {
   "cell_type": "code",
   "execution_count": 16,
   "metadata": {},
   "outputs": [
    {
     "data": {
      "image/png": "[encoded data removed]",
      "text/plain": [
       "<Figure size 432x288 with 1 Axes>"
      ]
     },
     "metadata": {
      "needs_background": "light"
     },
     "output_type": "display_data"
    }
   ],
   "source": [
    "plot_f(np.arange(-5,5,0.00001), [act_f])"
   ]
  },
  {
   "cell_type": "code",
   "execution_count": null,
   "metadata": {},
   "outputs": [],
   "source": []
  }
 ],
 "metadata": {
  "kernelspec": {
   "display_name": "pytorch1_0",
   "language": "python",
   "name": "pytorch1_0"
  },
  "language_info": {
   "codemirror_mode": {
    "name": "ipython",
    "version": 3
   },
   "file_extension": ".py",
   "mimetype": "text/x-python",
   "name": "python",
   "nbconvert_exporter": "python",
   "pygments_lexer": "ipython3",
   "version": "3.5.2"
  }
 },
 "nbformat": 4,
 "nbformat_minor": 2
}
